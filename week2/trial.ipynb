{
 "cells": [
  {
   "cell_type": "code",
   "execution_count": 53,
   "metadata": {},
   "outputs": [
    {
     "ename": "WebDriverException",
     "evalue": "Message: 'chromedriver' executable needs to be in PATH. Please see https://sites.google.com/a/chromium.org/chromedriver/home\n",
     "output_type": "error",
     "traceback": [
      "\u001b[1;31m---------------------------------------------------------------------------\u001b[0m",
      "\u001b[1;31mFileNotFoundError\u001b[0m                         Traceback (most recent call last)",
      "\u001b[1;32m~\\Anaconda3\\lib\\site-packages\\selenium\\webdriver\\common\\service.py\u001b[0m in \u001b[0;36mstart\u001b[1;34m(self)\u001b[0m\n\u001b[0;32m     75\u001b[0m                                             \u001b[0mstderr\u001b[0m\u001b[1;33m=\u001b[0m\u001b[0mself\u001b[0m\u001b[1;33m.\u001b[0m\u001b[0mlog_file\u001b[0m\u001b[1;33m,\u001b[0m\u001b[1;33m\u001b[0m\u001b[0m\n\u001b[1;32m---> 76\u001b[1;33m                                             stdin=PIPE)\n\u001b[0m\u001b[0;32m     77\u001b[0m         \u001b[1;32mexcept\u001b[0m \u001b[0mTypeError\u001b[0m\u001b[1;33m:\u001b[0m\u001b[1;33m\u001b[0m\u001b[0m\n",
      "\u001b[1;32m~\\Anaconda3\\lib\\subprocess.py\u001b[0m in \u001b[0;36m__init__\u001b[1;34m(self, args, bufsize, executable, stdin, stdout, stderr, preexec_fn, close_fds, shell, cwd, env, universal_newlines, startupinfo, creationflags, restore_signals, start_new_session, pass_fds, encoding, errors)\u001b[0m\n\u001b[0;32m    708\u001b[0m                                 \u001b[0merrread\u001b[0m\u001b[1;33m,\u001b[0m \u001b[0merrwrite\u001b[0m\u001b[1;33m,\u001b[0m\u001b[1;33m\u001b[0m\u001b[0m\n\u001b[1;32m--> 709\u001b[1;33m                                 restore_signals, start_new_session)\n\u001b[0m\u001b[0;32m    710\u001b[0m         \u001b[1;32mexcept\u001b[0m\u001b[1;33m:\u001b[0m\u001b[1;33m\u001b[0m\u001b[0m\n",
      "\u001b[1;32m~\\Anaconda3\\lib\\subprocess.py\u001b[0m in \u001b[0;36m_execute_child\u001b[1;34m(self, args, executable, preexec_fn, close_fds, pass_fds, cwd, env, startupinfo, creationflags, shell, p2cread, p2cwrite, c2pread, c2pwrite, errread, errwrite, unused_restore_signals, unused_start_new_session)\u001b[0m\n\u001b[0;32m    996\u001b[0m                                          \u001b[0mos\u001b[0m\u001b[1;33m.\u001b[0m\u001b[0mfspath\u001b[0m\u001b[1;33m(\u001b[0m\u001b[0mcwd\u001b[0m\u001b[1;33m)\u001b[0m \u001b[1;32mif\u001b[0m \u001b[0mcwd\u001b[0m \u001b[1;32mis\u001b[0m \u001b[1;32mnot\u001b[0m \u001b[1;32mNone\u001b[0m \u001b[1;32melse\u001b[0m \u001b[1;32mNone\u001b[0m\u001b[1;33m,\u001b[0m\u001b[1;33m\u001b[0m\u001b[0m\n\u001b[1;32m--> 997\u001b[1;33m                                          startupinfo)\n\u001b[0m\u001b[0;32m    998\u001b[0m             \u001b[1;32mfinally\u001b[0m\u001b[1;33m:\u001b[0m\u001b[1;33m\u001b[0m\u001b[0m\n",
      "\u001b[1;31mFileNotFoundError\u001b[0m: [WinError 2] 系統找不到指定的檔案。",
      "\nDuring handling of the above exception, another exception occurred:\n",
      "\u001b[1;31mWebDriverException\u001b[0m                        Traceback (most recent call last)",
      "\u001b[1;32m<ipython-input-53-a31cbcdf5a3b>\u001b[0m in \u001b[0;36m<module>\u001b[1;34m()\u001b[0m\n\u001b[0;32m      4\u001b[0m \u001b[1;33m\u001b[0m\u001b[0m\n\u001b[0;32m      5\u001b[0m \u001b[1;32mfrom\u001b[0m \u001b[0mselenium\u001b[0m \u001b[1;32mimport\u001b[0m \u001b[0mwebdriver\u001b[0m\u001b[1;33m\u001b[0m\u001b[0m\n\u001b[1;32m----> 6\u001b[1;33m \u001b[0mdriver\u001b[0m \u001b[1;33m=\u001b[0m \u001b[0mwebdriver\u001b[0m\u001b[1;33m.\u001b[0m\u001b[0mChrome\u001b[0m\u001b[1;33m(\u001b[0m\u001b[1;33m)\u001b[0m\u001b[1;33m\u001b[0m\u001b[0m\n\u001b[0m",
      "\u001b[1;32m~\\Anaconda3\\lib\\site-packages\\selenium\\webdriver\\chrome\\webdriver.py\u001b[0m in \u001b[0;36m__init__\u001b[1;34m(self, executable_path, port, options, service_args, desired_capabilities, service_log_path, chrome_options)\u001b[0m\n\u001b[0;32m     66\u001b[0m             \u001b[0mservice_args\u001b[0m\u001b[1;33m=\u001b[0m\u001b[0mservice_args\u001b[0m\u001b[1;33m,\u001b[0m\u001b[1;33m\u001b[0m\u001b[0m\n\u001b[0;32m     67\u001b[0m             log_path=service_log_path)\n\u001b[1;32m---> 68\u001b[1;33m         \u001b[0mself\u001b[0m\u001b[1;33m.\u001b[0m\u001b[0mservice\u001b[0m\u001b[1;33m.\u001b[0m\u001b[0mstart\u001b[0m\u001b[1;33m(\u001b[0m\u001b[1;33m)\u001b[0m\u001b[1;33m\u001b[0m\u001b[0m\n\u001b[0m\u001b[0;32m     69\u001b[0m \u001b[1;33m\u001b[0m\u001b[0m\n\u001b[0;32m     70\u001b[0m         \u001b[1;32mtry\u001b[0m\u001b[1;33m:\u001b[0m\u001b[1;33m\u001b[0m\u001b[0m\n",
      "\u001b[1;32m~\\Anaconda3\\lib\\site-packages\\selenium\\webdriver\\common\\service.py\u001b[0m in \u001b[0;36mstart\u001b[1;34m(self)\u001b[0m\n\u001b[0;32m     81\u001b[0m                 raise WebDriverException(\n\u001b[0;32m     82\u001b[0m                     \"'%s' executable needs to be in PATH. %s\" % (\n\u001b[1;32m---> 83\u001b[1;33m                         os.path.basename(self.path), self.start_error_message)\n\u001b[0m\u001b[0;32m     84\u001b[0m                 )\n\u001b[0;32m     85\u001b[0m             \u001b[1;32melif\u001b[0m \u001b[0merr\u001b[0m\u001b[1;33m.\u001b[0m\u001b[0merrno\u001b[0m \u001b[1;33m==\u001b[0m \u001b[0merrno\u001b[0m\u001b[1;33m.\u001b[0m\u001b[0mEACCES\u001b[0m\u001b[1;33m:\u001b[0m\u001b[1;33m\u001b[0m\u001b[0m\n",
      "\u001b[1;31mWebDriverException\u001b[0m: Message: 'chromedriver' executable needs to be in PATH. Please see https://sites.google.com/a/chromium.org/chromedriver/home\n"
     ]
    }
   ],
   "source": [
    "import pandas as pd\n",
    "import json\n",
    "import requests\n",
    "\n",
    "from selenium import webdriver\n",
    "driver = webdriver.Chrome()"
   ]
  },
  {
   "cell_type": "markdown",
   "metadata": {},
   "source": [
    "***\n",
    "* 目的\n",
    "    * 爬取女生配件這個分類的熱銷榜\n",
    "    <font color=\"red\"><font>\n",
    "* 分析\n",
    "    * Shopee網站為動態生成，經分析發\n",
    "***"
   ]
  },
  {
   "cell_type": "code",
   "execution_count": 26,
   "metadata": {
    "scrolled": true
   },
   "outputs": [],
   "source": [
    "# 1st stage query: 取得項目id list\n",
    "url = 'https://shopee.tw/api/v1/search_items/'\n",
    "# params\n",
    "param_get_list = {\"by\":\"sales\", \"categoryids\":2580, \"limit\":\"50\", \"newest\":0, \"order\": \"desc\"}\n",
    "# 正確的UA才回Fetch到真正的Item list\n",
    "header_get_list = {\"user-agent\":\"Mozilla/5.0 (Windows NT 10.0; Win64; x64; rv:58.0) Gecko/20100101 Firefox/58.0\"} \n",
    "res = requests.get(url, params=param_get_list, headers=header_get_list)"
   ]
  },
  {
   "cell_type": "code",
   "execution_count": 34,
   "metadata": {
    "scrolled": true
   },
   "outputs": [
    {
     "data": {
      "text/plain": [
       "{'adjust': {'count': 10372473},\n",
       " 'algorithm': '',\n",
       " 'hint_keywords': [],\n",
       " 'items': [{'itemid': 27596108,\n",
       "   'logisticid': [43274, 56375, 36099, 46370],\n",
       "   'shopid': 5212303},\n",
       "  {'itemid': 262646175,\n",
       "   'logisticid': [48162, 52254, 62647, 46786],\n",
       "   'shopid': 9638994},\n",
       "  {'itemid': 40800119,\n",
       "   'logisticid': [63877, 48347, 41944, 52010, 48048, 47020],\n",
       "   'shopid': 22383},\n",
       "  {'itemid': 47071783,\n",
       "   'logisticid': [31574, 60041, 44610, 41822],\n",
       "   'shopid': 3497546},\n",
       "  {'itemid': 479056620, 'logisticid': [42929, 64683], 'shopid': 18171159},\n",
       "  {'itemid': 340097295, 'logisticid': [47073, 54659], 'shopid': 15222688},\n",
       "  {'itemid': 143223497, 'logisticid': [46286, 48873], 'shopid': 12671360},\n",
       "  {'itemid': 196401947,\n",
       "   'logisticid': [58312, 39081, 32771],\n",
       "   'shopid': 3143184},\n",
       "  {'itemid': 4710874,\n",
       "   'logisticid': [39557, 73874, 71534, 34164, 31381, 30794],\n",
       "   'shopid': 22383},\n",
       "  {'itemid': 50347765,\n",
       "   'logisticid': [68227, 43042, 53713, 31624],\n",
       "   'shopid': 2407984},\n",
       "  {'itemid': 497109583, 'logisticid': [55022, 47958], 'shopid': 15222688},\n",
       "  {'itemid': 226314435,\n",
       "   'logisticid': [52703, 48779, 57591],\n",
       "   'shopid': 6844611},\n",
       "  {'itemid': 28041212,\n",
       "   'logisticid': [68832, 46731, 33696, 37838],\n",
       "   'shopid': 1029974},\n",
       "  {'itemid': 680137847,\n",
       "   'logisticid': [41442, 32966, 42634],\n",
       "   'shopid': 3143184},\n",
       "  {'itemid': 392894412,\n",
       "   'logisticid': [47354, 58055, 53053],\n",
       "   'shopid': 22668222},\n",
       "  {'itemid': 536101025,\n",
       "   'logisticid': [51532, 56323, 42927],\n",
       "   'shopid': 3143184},\n",
       "  {'itemid': 183952517,\n",
       "   'logisticid': [41914, 47039, 42844],\n",
       "   'shopid': 2439823},\n",
       "  {'itemid': 425845066,\n",
       "   'logisticid': [59914, 51368, 55555, 32297, 46367],\n",
       "   'shopid': 9687994},\n",
       "  {'itemid': 435562181,\n",
       "   'logisticid': [54185, 71442, 49967, 59100, 52115, 50794],\n",
       "   'shopid': 8477457},\n",
       "  {'itemid': 62802672,\n",
       "   'logisticid': [31718, 44301, 54401, 51304],\n",
       "   'shopid': 9638994},\n",
       "  {'itemid': 663405076, 'logisticid': [66400, 64865], 'shopid': 18171159},\n",
       "  {'itemid': 42724833, 'logisticid': [45333, 43765, 36296], 'shopid': 2439823},\n",
       "  {'itemid': 369577154,\n",
       "   'logisticid': [53475, 31281, 50492],\n",
       "   'shopid': 2439823},\n",
       "  {'itemid': 599736267, 'logisticid': [60973, 60396], 'shopid': 9469128},\n",
       "  {'itemid': 526941418, 'logisticid': [72012, 48797], 'shopid': 20162694},\n",
       "  {'itemid': 310782199,\n",
       "   'logisticid': [41325, 50718, 59840, 33048, 39650],\n",
       "   'shopid': 607616},\n",
       "  {'itemid': 19910249,\n",
       "   'logisticid': [59581, 43746, 35246, 38320],\n",
       "   'shopid': 5212303},\n",
       "  {'itemid': 111029668,\n",
       "   'logisticid': [48450, 47914, 59896],\n",
       "   'shopid': 4985362},\n",
       "  {'itemid': 694237404,\n",
       "   'logisticid': [43019, 54486, 59730],\n",
       "   'shopid': 42581013},\n",
       "  {'itemid': 8076116,\n",
       "   'logisticid': [43571, 59871, 64674, 52317, 63003],\n",
       "   'shopid': 383316},\n",
       "  {'itemid': 404627664,\n",
       "   'logisticid': [56700, 34675, 57348, 54505, 43111],\n",
       "   'shopid': 9687994},\n",
       "  {'itemid': 629579971,\n",
       "   'logisticid': [44760, 58354, 59050],\n",
       "   'shopid': 14989966},\n",
       "  {'itemid': 410648838,\n",
       "   'logisticid': [49963, 54187, 50771, 46570],\n",
       "   'shopid': 30116794},\n",
       "  {'itemid': 760264059, 'logisticid': [46288, 70544], 'shopid': 18171159},\n",
       "  {'itemid': 341424041,\n",
       "   'logisticid': [44598, 36438, 70604, 40170, 35444, 56820],\n",
       "   'shopid': 22383},\n",
       "  {'itemid': 273682544,\n",
       "   'logisticid': [38584, 53669, 44113],\n",
       "   'shopid': 22668222},\n",
       "  {'itemid': 138175313,\n",
       "   'logisticid': [41221, 34172, 48774],\n",
       "   'shopid': 2180659},\n",
       "  {'itemid': 508976437,\n",
       "   'logisticid': [38881, 37228, 30466, 51534],\n",
       "   'shopid': 5366102},\n",
       "  {'itemid': 10292008, 'logisticid': [39003, 60751], 'shopid': 2436085},\n",
       "  {'itemid': 414657393,\n",
       "   'logisticid': [36238, 34753, 37911],\n",
       "   'shopid': 5161829},\n",
       "  {'itemid': 134019258,\n",
       "   'logisticid': [49967, 71957, 30836, 37740],\n",
       "   'shopid': 15851277},\n",
       "  {'itemid': 64350325,\n",
       "   'logisticid': [39623, 45997, 59137, 58803],\n",
       "   'shopid': 9638994},\n",
       "  {'itemid': 83673030, 'logisticid': [57481, 42297, 47534], 'shopid': 2755743},\n",
       "  {'itemid': 664504054,\n",
       "   'logisticid': [37397, 32413, 41782, 54539],\n",
       "   'shopid': 9638994},\n",
       "  {'itemid': 664974994,\n",
       "   'logisticid': [55390, 43924, 52588, 43397],\n",
       "   'shopid': 28969561},\n",
       "  {'itemid': 792607550, 'logisticid': [58875, 59091], 'shopid': 18171159},\n",
       "  {'itemid': 524084671, 'logisticid': [65865, 58121], 'shopid': 18171159},\n",
       "  {'itemid': 97197966,\n",
       "   'logisticid': [41926, 46834, 31749, 46873, 44973],\n",
       "   'shopid': 2562513},\n",
       "  {'itemid': 173258426, 'logisticid': [67643, 64473], 'shopid': 17844006},\n",
       "  {'itemid': 201816495, 'logisticid': [39758, 41396], 'shopid': 12671360}],\n",
       " 'nomore': False,\n",
       " 'price_adjust': {'count': 10372473},\n",
       " 'reserved_keyword': '',\n",
       " 'show_disclaimer': False,\n",
       " 'suggestion_algorithm': 0,\n",
       " 'total_ads_count': 0,\n",
       " 'total_count': 5115108,\n",
       " 'version': '3427e112cb75e1381f533e15e0368b05'}"
      ]
     },
     "execution_count": 34,
     "metadata": {},
     "output_type": "execute_result"
    }
   ],
   "source": [
    "# parse json response from 1st stage requests.\n",
    "data = json.loads(res.text)\n",
    "data"
   ]
  },
  {
   "cell_type": "code",
   "execution_count": 35,
   "metadata": {},
   "outputs": [],
   "source": [
    "# 生成參數JSON\n",
    "# 2nd stage query 使用的JSON payload 只有參數名不一樣\n",
    "param2 = json.loads(\"{}\")\n",
    "param2['item_shop_ids'] = data['items']\n",
    "param2 = str(param2)"
   ]
  },
  {
   "cell_type": "code",
   "execution_count": 49,
   "metadata": {},
   "outputs": [
    {
     "data": {
      "text/plain": [
       "'{\"version\": \"99914b932bd37a50b983c5e7c90ae93b\"}'"
      ]
     },
     "execution_count": 49,
     "metadata": {},
     "output_type": "execute_result"
    }
   ],
   "source": [
    "# 2nd stage query: get item detail\n",
    "url_get_item_info = 'https://shopee.tw/api/v1/items/'\n",
    "header_get_item_info = {\n",
    "    \"Host\":\"shopee.tw\",\n",
    "    \"origin\":\"https://shopee.tw\",\n",
    "    \"x-csrftoken\":\"dDpiowxEv8u4NelUtFGUtmaPbHk5VTFD\",\n",
    "    \"Cookie\":\"_ga=GA1.2.671112091.1520493824; _gid=GA1.2.620437814.1520493824; SPC_IA=-1; SPC_U=-; SPC_F=eKg1RiYkXFQJHgfnvpXVaU9Tn0K41EMG; SPC_EC=-; REC_T_ID=a2406442-22a1-11e8-a2c0-246e961721ec; SPC_T_ID=\\\"XEK43/UoYZi5LlA1qtXodnx4+QegAizbK2VfntFF6kbLd1oEKLS6Hrw2AkcXHrWt7P5oQrMt2HXQFAsqUDXE432Hct3HTzEVKrswGi4bQb0=\\\"; SPC_SI=u4o1m1n8ag1jdkr2hzcgnpeos6bxv2wc; SPC_T_IV=\\\"S1YMfoIGqZ0yqFif/jCQfA==\\\"; csrftoken=dDpiowxEv8u4NelUtFGUtmaPbHk5VTFD; cto_lwid=363964b8-6e1c-4e6d-9171-adbcf7b4a4b4; __BWfp=c1520493828173x9d2da85fc; SPC_SC_TK=; UYOMAPJWEMDGJ=; SPC_SC_UD=; _gat=1\",\n",
    "    \"Referer\":\"https://shopee.tw/%E5%A5%B3%E7%94%9F%E9%85%8D%E4%BB%B6-cat.2580\", # stage 1 resulting url...\n",
    "    \"User-Agent\":\"Mozilla/5.0 (Windows NT 10.0; Win64; x64; rv:58.0) Gecko/20100101 Firefox/58.0\"\n",
    "}\n",
    "res2 = requests.get(url_get_item_info, json = param2, headers = header_get_item_info)\n",
    "res2.text\n",
    "#res2"
   ]
  },
  {
   "cell_type": "code",
   "execution_count": null,
   "metadata": {},
   "outputs": [],
   "source": []
  }
 ],
 "metadata": {
  "kernelspec": {
   "display_name": "Python 3",
   "language": "python",
   "name": "python3"
  },
  "language_info": {
   "codemirror_mode": {
    "name": "ipython",
    "version": 3
   },
   "file_extension": ".py",
   "mimetype": "text/x-python",
   "name": "python",
   "nbconvert_exporter": "python",
   "pygments_lexer": "ipython3",
   "version": "3.6.4"
  }
 },
 "nbformat": 4,
 "nbformat_minor": 2
}
