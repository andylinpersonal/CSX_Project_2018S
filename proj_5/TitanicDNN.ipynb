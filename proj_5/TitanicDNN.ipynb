{
 "cells": [
  {
   "cell_type": "code",
   "execution_count": 1,
   "metadata": {},
   "outputs": [],
   "source": [
    "import os\n",
    "import random\n",
    "import pandas as pd\n",
    "import numpy as np\n",
    "import matplotlib.pyplot as plt\n",
    "from sklearn import preprocessing\n",
    "%matplotlib inline"
   ]
  },
  {
   "cell_type": "code",
   "execution_count": 2,
   "metadata": {},
   "outputs": [],
   "source": [
    "train_df = pd.read_csv('./titanicTrain.csv')\n",
    "test_df = pd.read_csv('./titanicQuestion.csv')"
   ]
  },
  {
   "cell_type": "code",
   "execution_count": 3,
   "metadata": {},
   "outputs": [
    {
     "name": "stdout",
     "output_type": "stream",
     "text": [
      "Train: 1000 Test: 309\n"
     ]
    }
   ],
   "source": [
    "train_df = train_df[:1000]\n",
    "print('Train:', len(train_df),\n",
    "      'Test:', len(test_df))"
   ]
  },
  {
   "cell_type": "markdown",
   "metadata": {},
   "source": [
    "## preprocessing function"
   ]
  },
  {
   "cell_type": "code",
   "execution_count": 4,
   "metadata": {},
   "outputs": [],
   "source": [
    "# Titanic data preprocessing function\n",
    "def preprocessTitanicData(raw_df):\n",
    "    df = raw_df[['survived', 'pclass', 'sibsp', 'parch', 'age', 'sex', 'fare', 'embarked']]\n",
    "    df['age'] = df['age'].fillna(df['age'].median())\n",
    "    df['fare'] = df['fare'].fillna(df['fare'].median())\n",
    "    df['sex'] = df['sex'].map({'female':0, 'male':1}).astype(int)\n",
    "    x_onehot_df = pd.get_dummies(data=df, columns= ['embarked'])\n",
    "    ndarray = x_onehot_df.values\n",
    "    feature = ndarray[:,1:]\n",
    "    label = ndarray[:, 0]\n",
    "    \n",
    "    minmax_scale = preprocessing.MinMaxScaler(feature_range=(0, 1))\n",
    "    scaledFeatures = minmax_scale.fit_transform(feature)\n",
    "    \n",
    "    return scaledFeatures, label"
   ]
  },
  {
   "cell_type": "code",
   "execution_count": 5,
   "metadata": {},
   "outputs": [
    {
     "data": {
      "text/html": [
       "<div>\n",
       "<style scoped>\n",
       "    .dataframe tbody tr th:only-of-type {\n",
       "        vertical-align: middle;\n",
       "    }\n",
       "\n",
       "    .dataframe tbody tr th {\n",
       "        vertical-align: top;\n",
       "    }\n",
       "\n",
       "    .dataframe thead th {\n",
       "        text-align: right;\n",
       "    }\n",
       "</style>\n",
       "<table border=\"1\" class=\"dataframe\">\n",
       "  <thead>\n",
       "    <tr style=\"text-align: right;\">\n",
       "      <th></th>\n",
       "      <th>pclass</th>\n",
       "      <th>survived</th>\n",
       "      <th>name</th>\n",
       "      <th>sex</th>\n",
       "      <th>age</th>\n",
       "      <th>sibsp</th>\n",
       "      <th>parch</th>\n",
       "      <th>ticket</th>\n",
       "      <th>fare</th>\n",
       "      <th>cabin</th>\n",
       "      <th>embarked</th>\n",
       "      <th>boat</th>\n",
       "      <th>body</th>\n",
       "      <th>home.dest</th>\n",
       "    </tr>\n",
       "  </thead>\n",
       "  <tbody>\n",
       "    <tr>\n",
       "      <th>0</th>\n",
       "      <td>1.0</td>\n",
       "      <td>1.0</td>\n",
       "      <td>Allen, Miss. Elisabeth Walton</td>\n",
       "      <td>female</td>\n",
       "      <td>29.0000</td>\n",
       "      <td>0.0</td>\n",
       "      <td>0.0</td>\n",
       "      <td>24160</td>\n",
       "      <td>211.3375</td>\n",
       "      <td>B5</td>\n",
       "      <td>S</td>\n",
       "      <td>2</td>\n",
       "      <td>NaN</td>\n",
       "      <td>St Louis, MO</td>\n",
       "    </tr>\n",
       "    <tr>\n",
       "      <th>1</th>\n",
       "      <td>1.0</td>\n",
       "      <td>1.0</td>\n",
       "      <td>Allison, Master. Hudson Trevor</td>\n",
       "      <td>male</td>\n",
       "      <td>0.9167</td>\n",
       "      <td>1.0</td>\n",
       "      <td>2.0</td>\n",
       "      <td>113781</td>\n",
       "      <td>151.5500</td>\n",
       "      <td>C22 C26</td>\n",
       "      <td>S</td>\n",
       "      <td>11</td>\n",
       "      <td>NaN</td>\n",
       "      <td>Montreal, PQ / Chesterville, ON</td>\n",
       "    </tr>\n",
       "    <tr>\n",
       "      <th>2</th>\n",
       "      <td>1.0</td>\n",
       "      <td>0.0</td>\n",
       "      <td>Allison, Miss. Helen Loraine</td>\n",
       "      <td>female</td>\n",
       "      <td>2.0000</td>\n",
       "      <td>1.0</td>\n",
       "      <td>2.0</td>\n",
       "      <td>113781</td>\n",
       "      <td>151.5500</td>\n",
       "      <td>C22 C26</td>\n",
       "      <td>S</td>\n",
       "      <td>NaN</td>\n",
       "      <td>NaN</td>\n",
       "      <td>Montreal, PQ / Chesterville, ON</td>\n",
       "    </tr>\n",
       "    <tr>\n",
       "      <th>3</th>\n",
       "      <td>1.0</td>\n",
       "      <td>0.0</td>\n",
       "      <td>Allison, Mr. Hudson Joshua Creighton</td>\n",
       "      <td>male</td>\n",
       "      <td>30.0000</td>\n",
       "      <td>1.0</td>\n",
       "      <td>2.0</td>\n",
       "      <td>113781</td>\n",
       "      <td>151.5500</td>\n",
       "      <td>C22 C26</td>\n",
       "      <td>S</td>\n",
       "      <td>NaN</td>\n",
       "      <td>135.0</td>\n",
       "      <td>Montreal, PQ / Chesterville, ON</td>\n",
       "    </tr>\n",
       "    <tr>\n",
       "      <th>4</th>\n",
       "      <td>1.0</td>\n",
       "      <td>0.0</td>\n",
       "      <td>Allison, Mrs. Hudson J C (Bessie Waldo Daniels)</td>\n",
       "      <td>female</td>\n",
       "      <td>25.0000</td>\n",
       "      <td>1.0</td>\n",
       "      <td>2.0</td>\n",
       "      <td>113781</td>\n",
       "      <td>151.5500</td>\n",
       "      <td>C22 C26</td>\n",
       "      <td>S</td>\n",
       "      <td>NaN</td>\n",
       "      <td>NaN</td>\n",
       "      <td>Montreal, PQ / Chesterville, ON</td>\n",
       "    </tr>\n",
       "  </tbody>\n",
       "</table>\n",
       "</div>"
      ],
      "text/plain": [
       "   pclass  survived                                             name     sex  \\\n",
       "0     1.0       1.0                    Allen, Miss. Elisabeth Walton  female   \n",
       "1     1.0       1.0                   Allison, Master. Hudson Trevor    male   \n",
       "2     1.0       0.0                     Allison, Miss. Helen Loraine  female   \n",
       "3     1.0       0.0             Allison, Mr. Hudson Joshua Creighton    male   \n",
       "4     1.0       0.0  Allison, Mrs. Hudson J C (Bessie Waldo Daniels)  female   \n",
       "\n",
       "       age  sibsp  parch  ticket      fare    cabin embarked boat   body  \\\n",
       "0  29.0000    0.0    0.0   24160  211.3375       B5        S    2    NaN   \n",
       "1   0.9167    1.0    2.0  113781  151.5500  C22 C26        S   11    NaN   \n",
       "2   2.0000    1.0    2.0  113781  151.5500  C22 C26        S  NaN    NaN   \n",
       "3  30.0000    1.0    2.0  113781  151.5500  C22 C26        S  NaN  135.0   \n",
       "4  25.0000    1.0    2.0  113781  151.5500  C22 C26        S  NaN    NaN   \n",
       "\n",
       "                         home.dest  \n",
       "0                     St Louis, MO  \n",
       "1  Montreal, PQ / Chesterville, ON  \n",
       "2  Montreal, PQ / Chesterville, ON  \n",
       "3  Montreal, PQ / Chesterville, ON  \n",
       "4  Montreal, PQ / Chesterville, ON  "
      ]
     },
     "execution_count": 5,
     "metadata": {},
     "output_type": "execute_result"
    }
   ],
   "source": [
    "train_df.head()"
   ]
  },
  {
   "cell_type": "code",
   "execution_count": 6,
   "metadata": {},
   "outputs": [
    {
     "name": "stderr",
     "output_type": "stream",
     "text": [
      "D:\\andyl\\Anaconda3\\lib\\site-packages\\ipykernel_launcher.py:4: SettingWithCopyWarning: \n",
      "A value is trying to be set on a copy of a slice from a DataFrame.\n",
      "Try using .loc[row_indexer,col_indexer] = value instead\n",
      "\n",
      "See the caveats in the documentation: http://pandas.pydata.org/pandas-docs/stable/indexing.html#indexing-view-versus-copy\n",
      "  after removing the cwd from sys.path.\n",
      "D:\\andyl\\Anaconda3\\lib\\site-packages\\ipykernel_launcher.py:5: SettingWithCopyWarning: \n",
      "A value is trying to be set on a copy of a slice from a DataFrame.\n",
      "Try using .loc[row_indexer,col_indexer] = value instead\n",
      "\n",
      "See the caveats in the documentation: http://pandas.pydata.org/pandas-docs/stable/indexing.html#indexing-view-versus-copy\n",
      "  \"\"\"\n",
      "D:\\andyl\\Anaconda3\\lib\\site-packages\\ipykernel_launcher.py:6: SettingWithCopyWarning: \n",
      "A value is trying to be set on a copy of a slice from a DataFrame.\n",
      "Try using .loc[row_indexer,col_indexer] = value instead\n",
      "\n",
      "See the caveats in the documentation: http://pandas.pydata.org/pandas-docs/stable/indexing.html#indexing-view-versus-copy\n",
      "  \n"
     ]
    }
   ],
   "source": [
    "x_train, y_train = preprocessTitanicData(train_df)\n",
    "x_test, y_test = preprocessTitanicData(test_df)"
   ]
  },
  {
   "cell_type": "code",
   "execution_count": 7,
   "metadata": {},
   "outputs": [
    {
     "name": "stdout",
     "output_type": "stream",
     "text": [
      "(1000, 9) (1000,)\n",
      "(309, 9) (309,)\n",
      "(1000, 9) (1000, 1)\n",
      "(309, 9) (309, 1)\n"
     ]
    }
   ],
   "source": [
    "print(x_train.shape, y_train.shape) #np.array np.array\n",
    "print(x_test.shape, y_test.shape) # np.array np.array\n",
    "\n",
    "# reshape y_train and y_test\n",
    "y_train = y_train.reshape(-1, 1)\n",
    "y_test = y_test.reshape(-1, 1)\n",
    "\n",
    "print(x_train.shape, y_train.shape) #np.array np.array\n",
    "print(x_test.shape, y_test.shape) # np.array np.array"
   ]
  },
  {
   "cell_type": "markdown",
   "metadata": {},
   "source": [
    "## construct model"
   ]
  },
  {
   "cell_type": "code",
   "execution_count": 8,
   "metadata": {},
   "outputs": [],
   "source": [
    "import torch\n",
    "import torch.nn as nn\n",
    "from torch.autograd import Variable\n",
    "import torch.nn.functional as F\n",
    "import torchvision.transforms as transforms"
   ]
  },
  {
   "cell_type": "code",
   "execution_count": 9,
   "metadata": {},
   "outputs": [],
   "source": [
    "DROPOUT_RATIO = 0.35"
   ]
  },
  {
   "cell_type": "code",
   "execution_count": 19,
   "metadata": {},
   "outputs": [],
   "source": [
    "class LR(nn.Module): # 繼承torch.nn.module特性\n",
    "    \n",
    "    # 架構\n",
    "    def __init__(self):\n",
    "        super(LR, self).__init__() # super(LR, self) 繼承自己的__init__()\n",
    "        self.hidden1 = nn.Linear(9, 100) # input 9, hidden 40  Linear全連接\n",
    "        self.dropout = nn.Dropout(DROPOUT_RATIO)\n",
    "        self.hidden2 = nn.Linear(100, 80) # input 40, hidden 40  Linear全連接\n",
    "       # self.hidden22 = nn.Linear(100, 40)\n",
    "        self.hidden3 = nn.Linear(80, 60) # input 40, hidden 40  Linear全連接\n",
    "       # self.hidden3 = nn.Bilinear(40, 40, 30)\n",
    "        self.hidden4 = nn.Linear(60, 40) # input 40, hidden 30  Linear全連接\n",
    "        self.hidden5 = nn.Linear(40, 1) # hidden 10, output 1\n",
    "\n",
    "    # 運作流程（資料流）\n",
    "    def forward(self, x):  \n",
    "        x = F.sigmoid(self.hidden1(x)) # 讓x由hidden1後，進入activation function\n",
    "        x = F.dropout(self.dropout(x))\n",
    "        \n",
    "        #y = F.relu(self.hidden22(x))\n",
    "        #y = F.dropout(self.dropout(y))\n",
    "        \n",
    "        x = F.relu(self.hidden2(x))\n",
    "        x = F.dropout(self.dropout(x))\n",
    "        \n",
    "        x = F.relu(self.hidden3(x))\n",
    "       # x = F.relu(self.hidden3(x, y))\n",
    "        x = F.dropout(self.dropout(x))\n",
    "        x = F.relu(self.hidden4(x))\n",
    "        out = self.hidden5(x)\n",
    "        return out\n",
    "    "
   ]
  },
  {
   "cell_type": "code",
   "execution_count": 20,
   "metadata": {},
   "outputs": [],
   "source": [
    "learning_rate = 0.03\n",
    "model = LR()\n",
    "loss_func = nn.MSELoss()\n",
    "optimizer = torch.optim.SGD(model.parameters(), lr=learning_rate) #model.parameters() 所有訓練的參數都在這\n",
    "# model.cuda()   "
   ]
  },
  {
   "cell_type": "markdown",
   "metadata": {},
   "source": [
    "## Training"
   ]
  },
  {
   "cell_type": "code",
   "execution_count": 12,
   "metadata": {},
   "outputs": [],
   "source": [
    "epochs = 5000"
   ]
  },
  {
   "cell_type": "code",
   "execution_count": null,
   "metadata": {
    "scrolled": true
   },
   "outputs": [
    {
     "name": "stderr",
     "output_type": "stream",
     "text": [
      "D:\\andyl\\Anaconda3\\lib\\site-packages\\ipykernel_launcher.py:25: UserWarning: invalid index of a 0-dim tensor. This will be an error in PyTorch 0.5. Use tensor.item() to convert a 0-dim tensor to a Python number\n"
     ]
    },
    {
     "name": "stdout",
     "output_type": "stream",
     "text": [
      "epoch 10, loss 0.28219002\n",
      "epoch 20, loss 0.24655639\n",
      "epoch 30, loss 0.24781515\n",
      "epoch 40, loss 0.24587201\n",
      "epoch 50, loss 0.24994576\n",
      "epoch 60, loss 0.24631521\n",
      "epoch 70, loss 0.24463409\n",
      "epoch 80, loss 0.24754903\n",
      "epoch 90, loss 0.24354088\n",
      "epoch 100, loss 0.24519087\n",
      "epoch 110, loss 0.24700919\n",
      "epoch 120, loss 0.24538316\n",
      "epoch 130, loss 0.24729630\n",
      "epoch 140, loss 0.24451779\n",
      "epoch 150, loss 0.24543978\n",
      "epoch 160, loss 0.24292561\n",
      "epoch 170, loss 0.24373959\n",
      "epoch 180, loss 0.24396703\n",
      "epoch 190, loss 0.24334593\n",
      "epoch 200, loss 0.24378631\n",
      "epoch 210, loss 0.24251480\n",
      "epoch 220, loss 0.24504206\n",
      "epoch 230, loss 0.24159156\n",
      "epoch 240, loss 0.24403045\n",
      "epoch 250, loss 0.24438182\n",
      "epoch 260, loss 0.24389969\n",
      "epoch 270, loss 0.24534835\n",
      "epoch 280, loss 0.24290611\n",
      "epoch 290, loss 0.24462435\n",
      "epoch 300, loss 0.24376132\n",
      "epoch 310, loss 0.24439232\n",
      "epoch 320, loss 0.24426927\n",
      "epoch 330, loss 0.24163643\n",
      "epoch 340, loss 0.24337910\n",
      "epoch 350, loss 0.24501459\n",
      "epoch 360, loss 0.24487627\n",
      "epoch 370, loss 0.24312383\n",
      "epoch 380, loss 0.24189489\n",
      "epoch 390, loss 0.24466309\n",
      "epoch 400, loss 0.24512964\n",
      "epoch 410, loss 0.24232222\n",
      "epoch 420, loss 0.24226572\n",
      "epoch 430, loss 0.24356088\n",
      "epoch 440, loss 0.24319662\n",
      "epoch 450, loss 0.24380268\n",
      "epoch 460, loss 0.24301134\n",
      "epoch 470, loss 0.24402599\n",
      "epoch 480, loss 0.24177302\n",
      "epoch 490, loss 0.24340381\n",
      "epoch 500, loss 0.24282353\n",
      "epoch 510, loss 0.24013755\n",
      "epoch 520, loss 0.24355948\n",
      "epoch 530, loss 0.24525908\n",
      "epoch 540, loss 0.24084945\n",
      "epoch 550, loss 0.24274993\n",
      "epoch 560, loss 0.24259485\n",
      "epoch 570, loss 0.24050564\n",
      "epoch 580, loss 0.24044111\n",
      "epoch 590, loss 0.24417192\n",
      "epoch 600, loss 0.24104302\n",
      "epoch 610, loss 0.24124666\n",
      "epoch 620, loss 0.24292615\n",
      "epoch 630, loss 0.24246202\n",
      "epoch 640, loss 0.24204721\n",
      "epoch 650, loss 0.24183697\n",
      "epoch 660, loss 0.24383533\n",
      "epoch 670, loss 0.24093063\n",
      "epoch 680, loss 0.24167161\n",
      "epoch 690, loss 0.24289113\n",
      "epoch 700, loss 0.24177995\n",
      "epoch 710, loss 0.24150889\n",
      "epoch 720, loss 0.24209517\n",
      "epoch 730, loss 0.24080813\n",
      "epoch 740, loss 0.24244717\n",
      "epoch 750, loss 0.23926018\n",
      "epoch 760, loss 0.23879632\n",
      "epoch 770, loss 0.23875405\n",
      "epoch 780, loss 0.23968716\n",
      "epoch 790, loss 0.23853552\n",
      "epoch 800, loss 0.23879448\n",
      "epoch 810, loss 0.24076569\n",
      "epoch 820, loss 0.23849648\n",
      "epoch 830, loss 0.24221052\n",
      "epoch 840, loss 0.23933589\n",
      "epoch 850, loss 0.23989211\n",
      "epoch 860, loss 0.23786533\n",
      "epoch 870, loss 0.23704067\n",
      "epoch 880, loss 0.24205205\n",
      "epoch 890, loss 0.24077328\n",
      "epoch 900, loss 0.24002111\n",
      "epoch 910, loss 0.23792942\n",
      "epoch 920, loss 0.23817490\n",
      "epoch 930, loss 0.23889020\n",
      "epoch 940, loss 0.23985982\n",
      "epoch 950, loss 0.23979665\n",
      "epoch 960, loss 0.24082008\n",
      "epoch 970, loss 0.23910974\n",
      "epoch 980, loss 0.23709495\n",
      "epoch 990, loss 0.23763239\n",
      "epoch 1000, loss 0.24057342\n",
      "epoch 1010, loss 0.23670460\n",
      "epoch 1020, loss 0.23999844\n",
      "epoch 1030, loss 0.23880880\n",
      "epoch 1040, loss 0.23572828\n",
      "epoch 1050, loss 0.23659581\n",
      "epoch 1060, loss 0.23624609\n",
      "epoch 1070, loss 0.23717421\n",
      "epoch 1080, loss 0.23828791\n",
      "epoch 1090, loss 0.23858325\n",
      "epoch 1100, loss 0.23870045\n",
      "epoch 1110, loss 0.23912859\n",
      "epoch 1120, loss 0.23584732\n",
      "epoch 1130, loss 0.23392865\n",
      "epoch 1140, loss 0.23681633\n",
      "epoch 1150, loss 0.23998967\n",
      "epoch 1160, loss 0.23199971\n",
      "epoch 1170, loss 0.23584670\n",
      "epoch 1180, loss 0.23624668\n",
      "epoch 1190, loss 0.23518856\n",
      "epoch 1200, loss 0.23467451\n",
      "epoch 1210, loss 0.23436859\n",
      "epoch 1220, loss 0.23510787\n",
      "epoch 1230, loss 0.23704797\n",
      "epoch 1240, loss 0.23457724\n",
      "epoch 1250, loss 0.23643881\n",
      "epoch 1260, loss 0.23539872\n",
      "epoch 1270, loss 0.23674917\n",
      "epoch 1280, loss 0.22958554\n",
      "epoch 1290, loss 0.23487042\n",
      "epoch 1300, loss 0.23724933\n",
      "epoch 1310, loss 0.23150048\n",
      "epoch 1320, loss 0.23222269\n",
      "epoch 1330, loss 0.23407540\n",
      "epoch 1340, loss 0.23205630\n",
      "epoch 1350, loss 0.23897068\n",
      "epoch 1360, loss 0.22986966\n",
      "epoch 1370, loss 0.22847617\n",
      "epoch 1380, loss 0.23758112\n",
      "epoch 1390, loss 0.23297513\n",
      "epoch 1400, loss 0.23237725\n",
      "epoch 1410, loss 0.23067746\n",
      "epoch 1420, loss 0.23782554\n",
      "epoch 1430, loss 0.23516338\n",
      "epoch 1440, loss 0.23764601\n",
      "epoch 1450, loss 0.22960576\n",
      "epoch 1460, loss 0.22947066\n",
      "epoch 1470, loss 0.23389532\n",
      "epoch 1480, loss 0.22749984\n",
      "epoch 1490, loss 0.23392150\n",
      "epoch 1500, loss 0.23454672\n",
      "epoch 1510, loss 0.23212196\n",
      "epoch 1520, loss 0.22929026\n",
      "epoch 1530, loss 0.23413813\n",
      "epoch 1540, loss 0.22477144\n",
      "epoch 1550, loss 0.22750072\n",
      "epoch 1560, loss 0.23076183\n",
      "epoch 1570, loss 0.22696258\n",
      "epoch 1580, loss 0.22625932\n",
      "epoch 1590, loss 0.22754088\n",
      "epoch 1600, loss 0.23024791\n",
      "epoch 1610, loss 0.23048091\n",
      "epoch 1620, loss 0.23338050\n",
      "epoch 1630, loss 0.22864737\n",
      "epoch 1640, loss 0.23247086\n",
      "epoch 1650, loss 0.22822963\n",
      "epoch 1660, loss 0.22227934\n",
      "epoch 1670, loss 0.22755384\n",
      "epoch 1680, loss 0.22576641\n",
      "epoch 1690, loss 0.22492367\n",
      "epoch 1700, loss 0.23229276\n",
      "epoch 1710, loss 0.22994895\n",
      "epoch 1720, loss 0.22587717\n",
      "epoch 1730, loss 0.22737269\n",
      "epoch 1740, loss 0.22572571\n",
      "epoch 1750, loss 0.22775385\n",
      "epoch 1760, loss 0.22514106\n",
      "epoch 1770, loss 0.22457115\n",
      "epoch 1780, loss 0.23156552\n",
      "epoch 1790, loss 0.22993942\n",
      "epoch 1800, loss 0.22806852\n",
      "epoch 1810, loss 0.22510290\n",
      "epoch 1820, loss 0.22553197\n",
      "epoch 1830, loss 0.23112218\n",
      "epoch 1840, loss 0.22397873\n",
      "epoch 1850, loss 0.22901222\n",
      "epoch 1860, loss 0.22770229\n",
      "epoch 1870, loss 0.21916585\n",
      "epoch 1880, loss 0.22177587\n",
      "epoch 1890, loss 0.21855432\n",
      "epoch 1900, loss 0.22605237\n",
      "epoch 1910, loss 0.22431935\n",
      "epoch 1920, loss 0.21934062\n",
      "epoch 1930, loss 0.22485504\n",
      "epoch 1940, loss 0.22955716\n",
      "epoch 1950, loss 0.22440135\n",
      "epoch 1960, loss 0.22999316\n",
      "epoch 1970, loss 0.22757649\n",
      "epoch 1980, loss 0.22920568\n",
      "epoch 1990, loss 0.22436339\n",
      "epoch 2000, loss 0.22060962\n",
      "epoch 2010, loss 0.22280276\n",
      "epoch 2020, loss 0.22608832\n",
      "epoch 2030, loss 0.22301646\n",
      "epoch 2040, loss 0.22744896\n",
      "epoch 2050, loss 0.21941182\n",
      "epoch 2060, loss 0.21928391\n",
      "epoch 2070, loss 0.21584919\n",
      "epoch 2080, loss 0.21910223\n",
      "epoch 2090, loss 0.22259441\n",
      "epoch 2100, loss 0.21499358\n",
      "epoch 2110, loss 0.21965931\n",
      "epoch 2120, loss 0.21572559\n",
      "epoch 2130, loss 0.21701372\n",
      "epoch 2140, loss 0.21840660\n",
      "epoch 2150, loss 0.21969783\n",
      "epoch 2160, loss 0.22056080\n",
      "epoch 2170, loss 0.22565418\n",
      "epoch 2180, loss 0.22656785\n",
      "epoch 2190, loss 0.21039142\n",
      "epoch 2200, loss 0.22110452\n",
      "epoch 2210, loss 0.22080392\n",
      "epoch 2220, loss 0.21945836\n",
      "epoch 2230, loss 0.22663477\n",
      "epoch 2240, loss 0.21672346\n"
     ]
    }
   ],
   "source": [
    "for epoch in range(epochs):\n",
    "    epoch += 1\n",
    "\n",
    "    # convert to variables\n",
    "    x = Variable(torch.from_numpy(x_train).float())\n",
    "    y = Variable(torch.from_numpy(y_train).float())\n",
    "\n",
    "    # clear gradient w.r.t. parameters \n",
    "    optimizer.zero_grad()\n",
    "    \n",
    "    # forward to get output\n",
    "    prediction = model(x)\n",
    "\n",
    "    # calculate loss\n",
    "    loss = loss_func(prediction, y)\n",
    "\n",
    "    # backward to get gradient\n",
    "    loss.backward()\n",
    "\n",
    "    # update parameters\n",
    "    optimizer.step() \n",
    "\n",
    "    if epoch % 10 == 0:\n",
    "    # plot and show learning process\n",
    "        print(\"epoch %d, loss %.8f\" % (epoch, loss.data[0]))"
   ]
  },
  {
   "cell_type": "code",
   "execution_count": null,
   "metadata": {},
   "outputs": [],
   "source": [
    "# get filters from parameters:\n",
    "print(list(model.parameters())[0].size())  "
   ]
  },
  {
   "cell_type": "code",
   "execution_count": null,
   "metadata": {},
   "outputs": [],
   "source": [
    "train_prediction = prediction.data.numpy()\n",
    "train_prediction = np.where(train_prediction>=0.7,1,0)\n",
    "train_df['prediction'] = train_prediction"
   ]
  },
  {
   "cell_type": "markdown",
   "metadata": {},
   "source": [
    "## Prediction"
   ]
  },
  {
   "cell_type": "code",
   "execution_count": null,
   "metadata": {},
   "outputs": [],
   "source": [
    "x_test_v = Variable(torch.from_numpy(x_test).float())\n",
    "test_prediction = model(x_test_v).data.numpy()\n",
    "# test_prediction = np.where(test_prediction>=0.6,1,0)"
   ]
  },
  {
   "cell_type": "code",
   "execution_count": null,
   "metadata": {},
   "outputs": [],
   "source": [
    "test_df['prediction'] = test_prediction"
   ]
  },
  {
   "cell_type": "code",
   "execution_count": null,
   "metadata": {},
   "outputs": [],
   "source": [
    "def apply_sub(row, label):\n",
    "    if row[label] >= 0.5:\n",
    "        return 1\n",
    "    else:\n",
    "        return 0\n",
    "\n",
    "test_df['prediction'] = test_df.apply(lambda x: apply_sub(x, 'prediction'), axis = 1)\n",
    "test_df['prediction']"
   ]
  },
  {
   "cell_type": "code",
   "execution_count": null,
   "metadata": {},
   "outputs": [],
   "source": [
    "#test_df['prediction'].to_csv('titanic_answer_trained.csv')"
   ]
  },
  {
   "cell_type": "markdown",
   "metadata": {},
   "source": [
    "## Verify model"
   ]
  },
  {
   "cell_type": "code",
   "execution_count": null,
   "metadata": {},
   "outputs": [],
   "source": [
    "answer = pd.read_csv('titanicAns.csv')\n",
    "accuracy = 1.0 - sum(abs(answer['survived'] - test_df['prediction'])) / test_df.shape[0]\n",
    "print('Accuracy: %f %%'%(accuracy*100))"
   ]
  },
  {
   "cell_type": "markdown",
   "metadata": {},
   "source": [
    "### dump accuracy"
   ]
  },
  {
   "cell_type": "code",
   "execution_count": null,
   "metadata": {
    "scrolled": true
   },
   "outputs": [],
   "source": [
    "with open('log.txt', 'a') as flog:\n",
    "    flog.write('RESULT:\\n\\tDropout:\\t%.3f\\n\\tepochs:\\t\\t%ilearning_rate:\\t%f\\n\\tAccuracy:\\t%f %%\\n'%(DROPOUT_RATIO, epochs, learning_rate, accuracy*100))"
   ]
  },
  {
   "cell_type": "code",
   "execution_count": null,
   "metadata": {},
   "outputs": [],
   "source": [
    "with open('log.txt', 'r') as flog:\n",
    "    print(flog.read())"
   ]
  },
  {
   "cell_type": "code",
   "execution_count": null,
   "metadata": {},
   "outputs": [],
   "source": []
  }
 ],
 "metadata": {
  "kernelspec": {
   "display_name": "Python 3",
   "language": "python",
   "name": "python3"
  },
  "language_info": {
   "codemirror_mode": {
    "name": "ipython",
    "version": 3
   },
   "file_extension": ".py",
   "mimetype": "text/x-python",
   "name": "python",
   "nbconvert_exporter": "python",
   "pygments_lexer": "ipython3",
   "version": "3.6.4"
  }
 },
 "nbformat": 4,
 "nbformat_minor": 2
}
