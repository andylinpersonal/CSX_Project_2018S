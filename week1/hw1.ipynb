{
 "cells": [
  {
   "cell_type": "markdown",
   "metadata": {},
   "source": [
    "do something...\n",
    "我想搜搜看最後的N天內各種商品售出情形(訂單完成)"
   ]
  },
  {
   "cell_type": "code",
   "execution_count": 1,
   "metadata": {},
   "outputs": [],
   "source": [
    "# NOT WORK\n",
    "#coding:utf-8\n",
    "#import matplotlib.pyplot as plt\n",
    "#plt.rcParams[\"font.family\"] = [\"sans-serif\"]\n",
    "#plt.rcParams['font.sans-serif']=['Microsoft YaHei', 'Bitstream Vera Sans', 'Lucida Grande', 'Verdana', 'Geneva', 'Lucid', 'Arial', 'Helvetica', 'Avant Garde', 'sans-serif'] #用来正常显示中文标签\n",
    "#plt.rcParams['axes.unicode_minus']=False #用来正常显示负号\n",
    "#有中文出现的情况，需要u'内容'\n",
    "# This block is quoted from https://www.zhihu.com/question/25404709\n",
    "# Workaround for displaying Chinese characters in plot function.\n"
   ]
  },
  {
   "cell_type": "code",
   "execution_count": 2,
   "metadata": {},
   "outputs": [
    {
     "data": {
      "text/plain": [
       "7"
      ]
     },
     "execution_count": 2,
     "metadata": {},
     "output_type": "execute_result"
    }
   ],
   "source": [
    "# init\n",
    "import pandas as pd\n",
    "import gc\n",
    "df = pd.read_csv('Ntu_Orders.csv')\n",
    "gc.collect()"
   ]
  },
  {
   "cell_type": "code",
   "execution_count": 3,
   "metadata": {},
   "outputs": [],
   "source": [
    "#day = int(input('要找最近幾天內的?'))\n",
    "day = 30"
   ]
  },
  {
   "cell_type": "code",
   "execution_count": 4,
   "metadata": {},
   "outputs": [],
   "source": [
    "df['DateIdRaw'] = pd.to_datetime(df['DateId'].astype(str), format='%Y%m%d') # Convert date string to machine-friendly string."
   ]
  },
  {
   "cell_type": "code",
   "execution_count": 5,
   "metadata": {},
   "outputs": [],
   "source": [
    "# Sort data by date \n",
    "df = df.sort_values(by='DateIdRaw') #HINT: df.sort_values is not an in-place operation.\n",
    "# gc.collect()"
   ]
  },
  {
   "cell_type": "code",
   "execution_count": 6,
   "metadata": {},
   "outputs": [],
   "source": [
    "# Reset index by new order (??? \n",
    "df['Index'] = range(0, df.shape[0]) \n",
    "df = df.set_index('Index') # HINT: df.set_index is not an in-place operation."
   ]
  },
  {
   "cell_type": "code",
   "execution_count": 7,
   "metadata": {},
   "outputs": [
    {
     "data": {
      "text/plain": [
       "Timestamp('2017-12-11 00:00:00')"
      ]
     },
     "execution_count": 7,
     "metadata": {},
     "output_type": "execute_result"
    }
   ],
   "source": [
    "day_start = df.loc[df.shape[0]-1, 'DateIdRaw'] - pd.DateOffset(day - 1) # get start date\n",
    "day_start"
   ]
  },
  {
   "cell_type": "code",
   "execution_count": 8,
   "metadata": {},
   "outputs": [],
   "source": [
    "target = df[(df['DateIdRaw'] >= day_start) & (df['SalesOrderSlaveStatusDef'] == 'Finish')] # get our target ...\n"
   ]
  },
  {
   "cell_type": "code",
   "execution_count": 9,
   "metadata": {
    "scrolled": false
   },
   "outputs": [
    {
     "data": {
      "text/plain": [
       "LevelFourCategoryName\n",
       "T恤/帽T         18519\n",
       "三角褲             273\n",
       "休閒短裙/褲         2304\n",
       "休閒長裙/褲         4550\n",
       "內搭褲            5960\n",
       "其他              748\n",
       "單寧短裙/褲          121\n",
       "單寧長裙/褲         3938\n",
       "圍巾             3573\n",
       "女性襪類           3365\n",
       "平口褲              17\n",
       "成套衣褲組          2077\n",
       "披肩              292\n",
       "日系蕾絲內衣           13\n",
       "水鑽美背內衣           52\n",
       "洋裝            10954\n",
       "無鋼圈運動BRA         68\n",
       "皮衣/風衣/大衣       1037\n",
       "罩衫/針織/造型外套     1191\n",
       "背心/小可愛         2875\n",
       "舒適無痕內衣           61\n",
       "襯衫              967\n",
       "西裝外套             68\n",
       "連帽/棉外套         1349\n",
       "連身裙/褲           823\n",
       "針織衫           12670\n",
       "集中包覆內衣           53\n",
       "雪紡/棉麻衫          504\n",
       "高領衫/毛衣         2138\n",
       "Name: Quantity, dtype: int64"
      ]
     },
     "execution_count": 9,
     "metadata": {},
     "output_type": "execute_result"
    }
   ],
   "source": [
    "byCol = 'LevelFourCategoryName'\n",
    "data = target.groupby(by=byCol)['Quantity'].sum()\n",
    "data"
   ]
  },
  {
   "cell_type": "code",
   "execution_count": 10,
   "metadata": {
    "scrolled": false
   },
   "outputs": [
    {
     "data": {
      "image/png": "[encoded data removed]",
      "text/plain": [
       "<matplotlib.figure.Figure at 0x1a02637cba8>"
      ]
     },
     "metadata": {},
     "output_type": "display_data"
    },
    {
     "data": {
      "text/plain": [
       "['T恤/帽T',\n",
       " '三角褲',\n",
       " '休閒短裙/褲',\n",
       " '休閒長裙/褲',\n",
       " '內搭褲',\n",
       " '其他',\n",
       " '單寧短裙/褲',\n",
       " '單寧長裙/褲',\n",
       " '圍巾',\n",
       " '女性襪類',\n",
       " '平口褲',\n",
       " '成套衣褲組',\n",
       " '披肩',\n",
       " '日系蕾絲內衣',\n",
       " '水鑽美背內衣',\n",
       " '洋裝',\n",
       " '無鋼圈運動BRA',\n",
       " '皮衣/風衣/大衣',\n",
       " '罩衫/針織/造型外套',\n",
       " '背心/小可愛',\n",
       " '舒適無痕內衣',\n",
       " '襯衫',\n",
       " '西裝外套',\n",
       " '連帽/棉外套',\n",
       " '連身裙/褲',\n",
       " '針織衫',\n",
       " '集中包覆內衣',\n",
       " '雪紡/棉麻衫',\n",
       " '高領衫/毛衣']"
      ]
     },
     "execution_count": 10,
     "metadata": {},
     "output_type": "execute_result"
    }
   ],
   "source": [
    "ax = data.plot(kind='bar', title=byCol + ' in past %d days.'%(day))\n",
    "ax.set_xlabel(\"\",fontname=\"MS Gothic UI\")\n",
    "plt.show() # Display plotted under console.\n",
    "# TODO: 中文亂碼\n",
    "list(data.index)"
   ]
  },
  {
   "cell_type": "code",
   "execution_count": null,
   "metadata": {},
   "outputs": [],
   "source": []
  }
 ],
 "metadata": {
  "kernelspec": {
   "display_name": "Python 3",
   "language": "python",
   "name": "python3"
  },
  "language_info": {
   "codemirror_mode": {
    "name": "ipython",
    "version": 3
   },
   "file_extension": ".py",
   "mimetype": "text/x-python",
   "name": "python",
   "nbconvert_exporter": "python",
   "pygments_lexer": "ipython3",
   "version": "3.6.4"
  }
 },
 "nbformat": 4,
 "nbformat_minor": 2
}
