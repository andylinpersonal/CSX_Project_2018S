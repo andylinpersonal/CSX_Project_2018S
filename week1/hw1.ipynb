{
 "cells": [
  {
   "cell_type": "markdown",
   "metadata": {},
   "source": [
    "do something...\n",
    "我想搜搜看最後的N天內各種商品售出情形(訂單完成)"
   ]
  },
  {
   "cell_type": "code",
   "execution_count": 1,
   "metadata": {},
   "outputs": [],
   "source": [
    "#import matplotlib.pyplot as plt\n",
    "#plt.rcParams[\"font.family\"] = [\"sans-serif\"]\n",
    "#plt.rcParams['font.sans-serif']=['Microsoft YaHei', 'Bitstream Vera Sans', 'Lucida Grande', 'Verdana', 'Geneva', 'Lucid', 'Arial', 'Helvetica', 'Avant Garde', 'sans-serif'] #用来正常显示中文标签\n",
    "#plt.rcParams['axes.unicode_minus']=False #用来正常显示负号"
   ]
  },
  {
   "cell_type": "code",
   "execution_count": 15,
   "metadata": {},
   "outputs": [],
   "source": [
    "import pandas as pd\n",
    "import matplotlib.pyplot as plt\n",
    "import gc\n",
    "%matplotlib inline\n",
    "plt.rcParams['font.sans-serif'] = ['simhei'] \n"
   ]
  },
  {
   "cell_type": "code",
   "execution_count": 1,
   "metadata": {},
   "outputs": [
    {
     "name": "stderr",
     "output_type": "stream",
     "text": [
      "D:\\andyl\\Anaconda3\\lib\\site-packages\\IPython\\core\\interactiveshell.py:2728: DtypeWarning: Columns (23) have mixed types. Specify dtype option on import or set low_memory=False.\n",
      "  interactivity=interactivity, compiler=compiler, result=result)\n"
     ]
    }
   ],
   "source": [
    "df = pd.read_csv('../../Orders.csv')"
   ]
  },
  {
   "cell_type": "code",
   "execution_count": 3,
   "metadata": {},
   "outputs": [],
   "source": [
    "#day = int(input('要找最近幾天內的?'))\n",
    "day = 30"
   ]
  },
  {
   "cell_type": "code",
   "execution_count": 4,
   "metadata": {},
   "outputs": [],
   "source": [
    "# Convert date string to machine-friendly string.\n",
    "df['DateIdRaw'] = pd.to_datetime(df['DateId'].astype(str), format='%Y%m%d')"
   ]
  },
  {
   "cell_type": "code",
   "execution_count": 5,
   "metadata": {},
   "outputs": [],
   "source": [
    "# Sort data by date \n",
    "df.sort_values(by='DateIdRaw', inplace=True)"
   ]
  },
  {
   "cell_type": "code",
   "execution_count": 6,
   "metadata": {},
   "outputs": [],
   "source": [
    "# Reset index by new order (??? \n",
    "df['Index'] = range(0, df.shape[0]) \n",
    "df.set_index('Index', inplace=True) # HINT: df.set_index is not an in-place operation."
   ]
  },
  {
   "cell_type": "code",
   "execution_count": 7,
   "metadata": {},
   "outputs": [
    {
     "data": {
      "text/plain": [
       "Timestamp('2018-03-17 00:00:00')"
      ]
     },
     "execution_count": 7,
     "metadata": {},
     "output_type": "execute_result"
    }
   ],
   "source": [
    "day_start = df.loc[df.shape[0]-1, 'DateIdRaw'] - pd.DateOffset(day - 1) # get start date\n",
    "day_start"
   ]
  },
  {
   "cell_type": "code",
   "execution_count": 9,
   "metadata": {},
   "outputs": [],
   "source": [
    "# get our target ...\n",
    "target = df[(df['DateIdRaw'] >= day_start)] "
   ]
  },
  {
   "cell_type": "code",
   "execution_count": 13,
   "metadata": {
    "scrolled": false
   },
   "outputs": [
    {
     "data": {
      "text/plain": [
       "City\n",
       "1st        2\n",
       "南投縣     2048\n",
       "台中市    22718\n",
       "台北市    18102\n",
       "台南市    11924\n",
       "台東市       18\n",
       "台東縣      987\n",
       "嘉義市     1380\n",
       "嘉義縣     1969\n",
       "基隆市     2438\n",
       "宜蘭縣     2057\n",
       "屏東市       13\n",
       "屏東縣     3475\n",
       "彰化縣     6046\n",
       "新北市    32881\n",
       "新竹市     4163\n",
       "新竹縣     4109\n",
       "桃園市    16602\n",
       "桃園縣        2\n",
       "澎湖縣      636\n",
       "花蓮縣     1812\n",
       "苗栗縣     3190\n",
       "雲林縣     2350\n",
       "高雄市    16820\n",
       "Name: City, dtype: int64"
      ]
     },
     "execution_count": 13,
     "metadata": {},
     "output_type": "execute_result"
    }
   ],
   "source": [
    "# Get count of each purchase record by city\n",
    "byCol = 'City'\n",
    "data = target.groupby(by=byCol)[byCol].count()\n",
    "data"
   ]
  },
  {
   "cell_type": "code",
   "execution_count": 17,
   "metadata": {
    "scrolled": false
   },
   "outputs": [
    {
     "data": {
      "image/png": "[encoded data removed]",
      "text/plain": [
       "<matplotlib.figure.Figure at 0x1e510802b38>"
      ]
     },
     "metadata": {},
     "output_type": "display_data"
    },
    {
     "data": {
      "text/plain": [
       "['1st',\n",
       " '南投縣',\n",
       " '台中市',\n",
       " '台北市',\n",
       " '台南市',\n",
       " '台東市',\n",
       " '台東縣',\n",
       " '嘉義市',\n",
       " '嘉義縣',\n",
       " '基隆市',\n",
       " '宜蘭縣',\n",
       " '屏東市',\n",
       " '屏東縣',\n",
       " '彰化縣',\n",
       " '新北市',\n",
       " '新竹市',\n",
       " '新竹縣',\n",
       " '桃園市',\n",
       " '桃園縣',\n",
       " '澎湖縣',\n",
       " '花蓮縣',\n",
       " '苗栗縣',\n",
       " '雲林縣',\n",
       " '高雄市']"
      ]
     },
     "execution_count": 17,
     "metadata": {},
     "output_type": "execute_result"
    }
   ],
   "source": [
    "ax = data.plot(kind='bar', title=byCol + ' in past %d days.'%(day))\n",
    "ax.ylabel='人次'\n",
    "plt.show()\n",
    "list(data.index)"
   ]
  }
 ],
 "metadata": {
  "kernelspec": {
   "display_name": "Python 3",
   "language": "python",
   "name": "python3"
  },
  "language_info": {
   "codemirror_mode": {
    "name": "ipython",
    "version": 3
   },
   "file_extension": ".py",
   "mimetype": "text/x-python",
   "name": "python",
   "nbconvert_exporter": "python",
   "pygments_lexer": "ipython3",
   "version": "3.6.4"
  }
 },
 "nbformat": 4,
 "nbformat_minor": 2
}
