{
 "cells": [
  {
   "cell_type": "markdown",
   "metadata": {},
   "source": [
    "**Merge Datasets**"
   ]
  },
  {
   "cell_type": "code",
   "execution_count": 1,
   "metadata": {},
   "outputs": [],
   "source": [
    "import pandas as pd\n",
    "import numpy as np\n",
    "import math"
   ]
  },
  {
   "cell_type": "code",
   "execution_count": 2,
   "metadata": {},
   "outputs": [],
   "source": [
    "main_data = pd.read_csv('Ntu_Orders.csv')"
   ]
  },
  {
   "cell_type": "code",
   "execution_count": 3,
   "metadata": {},
   "outputs": [],
   "source": [
    "promotion = pd.read_csv('NTU_1317_PromotionOrders.txt', sep='\\t')"
   ]
  },
  {
   "cell_type": "code",
   "execution_count": 4,
   "metadata": {},
   "outputs": [],
   "source": [
    "merged = pd.merge(main_data, promotion, on='SalesOrderSlaveId')"
   ]
  },
  {
   "cell_type": "code",
   "execution_count": 5,
   "metadata": {
    "scrolled": true
   },
   "outputs": [],
   "source": [
    "merged.to_csv('Y:\\\\Merged.csv')"
   ]
  },
  {
   "cell_type": "code",
   "execution_count": 6,
   "metadata": {},
   "outputs": [],
   "source": [
    "merged = pd.read_csv('Merged.csv')"
   ]
  },
  {
   "cell_type": "code",
   "execution_count": 7,
   "metadata": {
    "scrolled": true
   },
   "outputs": [
    {
     "name": "stdout",
     "output_type": "stream",
     "text": [
      "<class 'pandas.core.frame.DataFrame'>\n",
      "RangeIndex: 2306214 entries, 0 to 2306213\n",
      "Data columns (total 34 columns):\n",
      "Unnamed: 0                                      int64\n",
      "SalesOrderSlaveId                               int64\n",
      "DateId                                          int64\n",
      "MemberId                                        object\n",
      "TradesOrderSlaveId                              int64\n",
      "ShopId                                          int64\n",
      "SalePageId                                      int64\n",
      "TradesOrderGroupCode                            object\n",
      "TrackSourceTypeDef                              object\n",
      "TrackChannelTypeDef                             object\n",
      "TrackDeviceTypeDef                              object\n",
      "LevelOneCategoryName                            object\n",
      "LevelTwoCategoryName                            object\n",
      "LevelThreeCategoryName                          object\n",
      "LevelFourCategoryName                           object\n",
      "IsMajor                                         bool\n",
      "IsGift                                          bool\n",
      "Quantity                                        int64\n",
      "UnitPrice                                       float64\n",
      "PromotionDiscount                               float64\n",
      "EcouponDiscount                                 float64\n",
      "SalesOrderSlaveTotalPayment                     float64\n",
      "SalesOrderSlaveDateTime                         object\n",
      "SalesOrderSlaveStatusDef                        object\n",
      "PayProfileTypeDef                               object\n",
      "ShippingProfileTypeDef                          object\n",
      "EcouponId                                       float64\n",
      "IsSalePageGift                                  bool\n",
      "PromotionId                                     int64\n",
      "SalesOrderSlavePromotionDiscount                float64\n",
      "SalesOrderSlavePromotionDiscountRate            float64\n",
      "SalesOrderSlavePromotionDiscountAllocated       float64\n",
      "SalesOrderSlavePromotionDiscountAllocatedQty    int64\n",
      "SalesOrderSlavePromotionValidFlag               int64\n",
      "dtypes: bool(3), float64(8), int64(10), object(13)\n",
      "memory usage: 552.0+ MB\n"
     ]
    }
   ],
   "source": [
    "merged.info()"
   ]
  },
  {
   "cell_type": "code",
   "execution_count": null,
   "metadata": {},
   "outputs": [],
   "source": [
    "merged.plot.scatter"
   ]
  }
 ],
 "metadata": {
  "kernelspec": {
   "display_name": "Python 3",
   "language": "python",
   "name": "python3"
  },
  "language_info": {
   "codemirror_mode": {
    "name": "ipython",
    "version": 3
   },
   "file_extension": ".py",
   "mimetype": "text/x-python",
   "name": "python",
   "nbconvert_exporter": "python",
   "pygments_lexer": "ipython3",
   "version": "3.6.4"
  }
 },
 "nbformat": 4,
 "nbformat_minor": 2
}
